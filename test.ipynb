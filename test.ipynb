{
 "cells": [
  {
   "cell_type": "code",
   "execution_count": null,
   "metadata": {},
   "outputs": [],
   "source": [
    "def pre_train(config):\n",
    "    tokenizer = PreTrainedTokenizer.from_pretrained(config.tokenizer_dir)\n",
    "    config = MyModelConfig()\n",
    "    \n",
    "    model = TexttoTextModel(config)\n",
    "    \n",
    "    dataset = get_dataset(config.train_file, split = 'train', tokenizer = tokenizer)\n",
    "    \n",
    "    # considering T5 is seq2seq model, so that seq2seqTrainer, seq2seqTrainingArguments and DataCollatorForSeq2Seq are used\n",
    "    generation_config = GenerationConfig()\n",
    "    generation_config.remove_invalid_values = True\n",
    "    generation_config.eos_token_id = tokenizer.eos_token_id\n",
    "    generation_config.pad_token_id = tokenizer.pad_token_id\n",
    "    generation_config.decoder_start_token_id = tokenizer.pad_token_id\n",
    "    generation_config.max_new_tokens = 320\n",
    "    generation_config.num_beams = 1         # greedy search\n",
    "    generation_config.do_sample = False     # greedy search\n",
    "    \n",
    "    training_args = Seq2SeqTrainingArguments(\n",
    "        output_dir=config.output_dir,\n",
    "        per_device_train_batch_size=config.batch_size_per_gpu,\n",
    "        auto_find_batch_size=True,  # 防止OOM\n",
    "        gradient_accumulation_steps=config.gradient_accumulation_steps,\n",
    "        learning_rate=config.learn_rate,\n",
    "        logging_steps=config.logging_steps,\n",
    "        num_train_epochs=config.epochs,\n",
    "        optim=\"adafactor\",\n",
    "        report_to='tensorboard',\n",
    "        log_level='info',\n",
    "        save_steps=config.save_steps,\n",
    "        save_total_limit=3,\n",
    "        fp16=True if config.mixed_precision == 'fp16' else False,\n",
    "        bf16=True if config.mixed_precision == 'bf16' else False,\n",
    "        logging_first_step=True,\n",
    "        warmup_steps=config.warmup_steps,\n",
    "        seed=config.seed,\n",
    "        generation_config=generation_config,\n",
    "    )\n",
    "\n",
    "    # step 6: init my collator,\n",
    "    collator = DataCollatorForSeq2Seq(tokenizer, max_length=config.max_seq_len)\n",
    "    empty_cuda_cahce = MyTrainerCallback()\n",
    "\n",
    "    # Step 7: Define the Trainer\n",
    "    trainer = Seq2SeqTrainer(\n",
    "        model=model,\n",
    "        args=training_args,\n",
    "        train_dataset=dataset,\n",
    "        tokenizer=tokenizer,\n",
    "        data_collator=collator,\n",
    "        callbacks=[empty_cuda_cahce],\n",
    "    )\n",
    "\n",
    "    # step 8: train\n",
    "    trainer.train(\n",
    "        # resume_from_checkpoint=True\n",
    "    )\n",
    "\n",
    "    #step 9: save log\n",
    "    loss_log = pd.DataFrame(trainer.state.log_history)\n",
    "    log_dir = './logs'\n",
    "    if not os.path.exists(log_dir):\n",
    "        os.mkdir(log_dir)\n",
    "    loss_log.to_csv(f\"{log_dir}/pre_train_log_{time.strftime('%Y%m%d-%H%M')}.csv\")\n",
    "\n",
    "    # Step 10: Save the model\n",
    "    trainer.save_model(config.output_dir)\n",
    "\n",
    "\n",
    "if __name__ == '__main__':\n",
    "    config = TrainConfig()\n",
    "    pre_train(config)"
   ]
  },
  {
   "cell_type": "code",
   "execution_count": 4,
   "metadata": {},
   "outputs": [
    {
     "name": "stdout",
     "output_type": "stream",
     "text": [
      "config.py\t  data_preprocessing  test.ipynb  utils.py\n",
      "customized_model  pretrain\t      tokenizer\n"
     ]
    }
   ],
   "source": [
    "! ls ./"
   ]
  },
  {
   "cell_type": "code",
   "execution_count": null,
   "metadata": {},
   "outputs": [],
   "source": []
  }
 ],
 "metadata": {
  "kernelspec": {
   "display_name": "venv3810",
   "language": "python",
   "name": "python3"
  },
  "language_info": {
   "codemirror_mode": {
    "name": "ipython",
    "version": 3
   },
   "file_extension": ".py",
   "mimetype": "text/x-python",
   "name": "python",
   "nbconvert_exporter": "python",
   "pygments_lexer": "ipython3",
   "version": "3.8.10"
  }
 },
 "nbformat": 4,
 "nbformat_minor": 2
}
