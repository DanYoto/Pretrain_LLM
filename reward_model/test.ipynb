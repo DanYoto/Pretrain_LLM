{
 "cells": [
  {
   "cell_type": "code",
   "execution_count": 19,
   "metadata": {},
   "outputs": [
    {
     "ename": "ValueError",
     "evalue": "Some specified arguments are not used by the HfArgumentParser: ['--f=/home/azureuser/.local/share/jupyter/runtime/kernel-v3a25c9c7547e96a06be870c0c42ce259df13b5f26.json']",
     "output_type": "error",
     "traceback": [
      "\u001b[0;31m---------------------------------------------------------------------------\u001b[0m",
      "\u001b[0;31mValueError\u001b[0m                                Traceback (most recent call last)",
      "Cell \u001b[0;32mIn[19], line 5\u001b[0m\n\u001b[1;32m      2\u001b[0m \u001b[38;5;28;01mfrom\u001b[39;00m \u001b[38;5;21;01mconfig\u001b[39;00m \u001b[38;5;28;01mimport\u001b[39;00m ScriptArguments\n\u001b[1;32m      4\u001b[0m parser \u001b[38;5;241m=\u001b[39m HfArgumentParser(ScriptArguments)\n\u001b[0;32m----> 5\u001b[0m script_args \u001b[38;5;241m=\u001b[39m \u001b[43mparser\u001b[49m\u001b[38;5;241;43m.\u001b[39;49m\u001b[43mparse_args_into_dataclasses\u001b[49m\u001b[43m(\u001b[49m\u001b[43m)\u001b[49m[\u001b[38;5;241m0\u001b[39m]\n",
      "File \u001b[0;32m/anaconda/lib/python3.12/site-packages/transformers/hf_argparser.py:348\u001b[0m, in \u001b[0;36mHfArgumentParser.parse_args_into_dataclasses\u001b[0;34m(self, args, return_remaining_strings, look_for_args_file, args_filename, args_file_flag)\u001b[0m\n\u001b[1;32m    346\u001b[0m \u001b[38;5;28;01melse\u001b[39;00m:\n\u001b[1;32m    347\u001b[0m     \u001b[38;5;28;01mif\u001b[39;00m remaining_args:\n\u001b[0;32m--> 348\u001b[0m         \u001b[38;5;28;01mraise\u001b[39;00m \u001b[38;5;167;01mValueError\u001b[39;00m(\u001b[38;5;124mf\u001b[39m\u001b[38;5;124m\"\u001b[39m\u001b[38;5;124mSome specified arguments are not used by the HfArgumentParser: \u001b[39m\u001b[38;5;132;01m{\u001b[39;00mremaining_args\u001b[38;5;132;01m}\u001b[39;00m\u001b[38;5;124m\"\u001b[39m)\n\u001b[1;32m    350\u001b[0m     \u001b[38;5;28;01mreturn\u001b[39;00m (\u001b[38;5;241m*\u001b[39moutputs,)\n",
      "\u001b[0;31mValueError\u001b[0m: Some specified arguments are not used by the HfArgumentParser: ['--f=/home/azureuser/.local/share/jupyter/runtime/kernel-v3a25c9c7547e96a06be870c0c42ce259df13b5f26.json']"
     ]
    }
   ],
   "source": [
    "from transformers import HfArgumentParser\n",
    "from config import ScriptArguments\n",
    "\n",
    "parser = HfArgumentParser(ScriptArguments)\n",
    "script_args = parser.parse_args_into_dataclasses()[0]"
   ]
  },
  {
   "cell_type": "code",
   "execution_count": 21,
   "metadata": {},
   "outputs": [],
   "source": [
    "from transformers import HfArgumentParser\n",
    "from dataclasses import dataclass, field\n",
    "from typing import Optional, List\n",
    "\n",
    "@dataclass\n",
    "class ModelArguments:\n",
    "    \"\"\"\n",
    "    Arguments pertaining to the model configuration.\n",
    "    \"\"\"\n",
    "    model_name_or_path: str = field(\n",
    "        metadata={\"help\": \"Path to pretrained model or model identifier from huggingface.co/models\"}\n",
    "    )\n",
    "    cache_dir: Optional[str] = field(\n",
    "        default=None,\n",
    "        metadata={\"help\": \"Directory to store the pretrained models downloaded from huggingface.co\"}\n",
    "    )\n",
    "\n",
    "@dataclass\n",
    "class TrainingArguments:\n",
    "    \"\"\"\n",
    "    Arguments related to the training process.\n",
    "    \"\"\"\n",
    "    num_train_epochs: int = field(\n",
    "        default=3,\n",
    "        metadata={\"help\": \"Total number of training epochs to perform\"}\n",
    "    )\n",
    "    per_device_train_batch_size: int = field(\n",
    "        default=8,\n",
    "        metadata={\"help\": \"Batch size per device during training\"}\n",
    "    )\n",
    "    learning_rate: float = field(\n",
    "        default=5e-5,\n",
    "        metadata={\"help\": \"Initial learning rate for the optimizer\"}\n",
    "    )\n"
   ]
  },
  {
   "cell_type": "code",
   "execution_count": null,
   "metadata": {},
   "outputs": [],
   "source": [
    "parser = HfArgumentParser((ModelArguments, TrainingArguments))"
   ]
  },
  {
   "cell_type": "code",
   "execution_count": null,
   "metadata": {},
   "outputs": [],
   "source": []
  }
 ],
 "metadata": {
  "kernelspec": {
   "display_name": "base",
   "language": "python",
   "name": "python3"
  },
  "language_info": {
   "codemirror_mode": {
    "name": "ipython",
    "version": 3
   },
   "file_extension": ".py",
   "mimetype": "text/x-python",
   "name": "python",
   "nbconvert_exporter": "python",
   "pygments_lexer": "ipython3",
   "version": "3.12.2"
  }
 },
 "nbformat": 4,
 "nbformat_minor": 2
}
